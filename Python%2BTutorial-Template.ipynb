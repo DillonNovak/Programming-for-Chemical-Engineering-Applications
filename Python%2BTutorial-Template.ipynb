{
 "cells": [
  {
   "cell_type": "markdown",
   "metadata": {
    "collapsed": true
   },
   "source": [
    "# Introduction to Python\n",
    "\n",
    "### A Tutorial by Jacob Gerace\n",
    "\n",
    "### Why Python?\n",
    "\n",
    "1. Clean syntax\n",
    "2. The same code can run on all Operating Systems\n",
    "3. **Extensive first and third party libraries (of particular note for our purposes is NumPy)**\n",
    "\n",
    "### Markdown Sidenote\n",
    " * This text is written in a Markdown block. Markdown is straightforward way to format writeups in Jupyter, but I won't cover it here for the sake of brevity. \n",
    " * See if you can use Markdown in your next homework, here's a link that explains the formatting: https://daringfireball.net/projects/markdown/syntax . \n",
    " * You can also look at existing Markdown examples (i.e. this worksheet) and emulate the style. Double click a Markdown box in Jupyter to show the code.\n",
    " \n",
    "### LaTeX Sidenote\n",
    "* LaTeX (pronounced \"La-tech\") is a language itself used widely to write documents with symbolic math\n",
    "* When you add a mathematical formula to these markdown blocks, the math is in LaTeX.\n",
    "* Ex from class: $$V \\frac{dC}{dt} = u(t) - Q C(t)$$ \n",
    "* A good resource: https://en.wikibooks.org/wiki/LaTeX/Mathematics\n",
    " \n",
    " \n",
    "### What I hope you'll get out of this tutorial:\n",
    "* The feeling that you'll \"know where to start\" when you see python code in lecture, or when you need to write python for an assignment.\n",
    "* (You won't be a python expert after one hour)\n",
    "* Basics to variables, lists, conditionals, functions, loops, and the numpy package.\n",
    "* Resources to look further"
   ]
  },
  {
   "cell_type": "markdown",
   "metadata": {
    "collapsed": true
   },
   "source": [
    "## Python Basics\n",
    "### Variable Basics"
   ]
  },
  {
   "cell_type": "code",
   "execution_count": 3,
   "metadata": {
    "collapsed": false
   },
   "outputs": [
    {
     "name": "stdout",
     "output_type": "stream",
     "text": [
      "42\n",
      "True\n",
      "3.1415\n",
      "Dillon\n"
     ]
    }
   ],
   "source": [
    "#A variable stores a piece of data and gives it a name\n",
    "#syntax of the form:\n",
    "#variable_name = variable_value\n",
    "#What are some types of variables you will need to use?\n",
    "\n",
    "answer = 42\n",
    "print(answer)\n",
    "\n",
    "is_it_tuesday = True\n",
    "is_it_wednesday = False\n",
    "print(is_it_tuesday)\n",
    "\n",
    "pi_approx = 3.1415\n",
    "print(pi_approx)\n",
    "\n",
    "my_name = \"Dillon\"\n",
    "print(my_name)"
   ]
  },
  {
   "cell_type": "markdown",
   "metadata": {},
   "source": [
    "### More Complicated Data Types\n"
   ]
  },
  {
   "cell_type": "code",
   "execution_count": 9,
   "metadata": {
    "collapsed": false
   },
   "outputs": [
    {
     "name": "stdout",
     "output_type": "stream",
     "text": [
      "[10, 20, 30, 40, 50]\n",
      "['Green', 'Blue', 'Red']\n",
      "Yellow\n",
      "['Green', 'Yellow', 'Red']\n"
     ]
    }
   ],
   "source": [
    "#Lists\n",
    "#Defining a list and printing is very simple:\n",
    "prices = [10, 20, 30, 40, 50]\n",
    "print(prices)\n",
    "\n",
    "colors = []\n",
    "colors.append(\"Green\")\n",
    "colors.append(\"Blue\")\n",
    "colors.append(\"Red\")\n",
    "print(colors)\n",
    "\n",
    "colors[1] = \"Yellow\"\n",
    "print(colors[1])\n",
    "print(colors)"
   ]
  },
  {
   "cell_type": "markdown",
   "metadata": {},
   "source": [
    "### Basic Things to do with Variables. Especially Floats."
   ]
  },
  {
   "cell_type": "code",
   "execution_count": 17,
   "metadata": {
    "collapsed": false
   },
   "outputs": [
    {
     "name": "stdout",
     "output_type": "stream",
     "text": [
      "8.0\n",
      "3.5\n",
      "12.9375\n",
      "2.5555555555555554\n",
      "2.302585092994046\n",
      "2.25\n",
      "32.0\n",
      "32\n",
      "[10, 20, 30, 40, 50, 10, 20, 30, 40, 50]\n"
     ]
    }
   ],
   "source": [
    "float1 = 5.75\n",
    "float2 = 2.25\n",
    "#Addition, subtraction, multiplication, division are as you expect\n",
    "\n",
    "print(float1 + float2)\n",
    "print(float1 - float2)\n",
    "print(float1 * float2)\n",
    "print(float1 / float2)\n",
    "\n",
    "#Here's an interesting one that showed up in your first homework. What does this do?\n",
    "result = 5 % 2\n",
    "\n",
    "#What are some other math functions you would like to do with floats?\n",
    "import math as m\n",
    "print(m.log(10))\n",
    "print(m.exp(m.log(float2)))\n",
    "print(m.pow(2,5))\n",
    "print(2**5)\n",
    "\n",
    "print(2 * prices)\n"
   ]
  },
  {
   "cell_type": "markdown",
   "metadata": {},
   "source": [
    "### Conditionals in Python"
   ]
  },
  {
   "cell_type": "code",
   "execution_count": 21,
   "metadata": {
    "collapsed": false,
    "scrolled": false
   },
   "outputs": [
    {
     "name": "stdout",
     "output_type": "stream",
     "text": [
      "This is too high\n",
      "This is always run\n",
      "Price is $5\n"
     ]
    }
   ],
   "source": [
    "\n",
    "#Sometimes you want to execute code only in certain circumstances. We saw this on HW1.\n",
    "#The basic syntax is:\n",
    "#if boolean_statement_1:\n",
    "#    _code to do if 1 is true_\n",
    "#elif boolean_statement_2:\n",
    "#    _code to do if 2 is true_\n",
    "#else:\n",
    "#    _code to do in all other cases_\n",
    "\n",
    "#A boolean statement is something that can be True or False. Named after mathematician George boole. (5 < 3) is an\n",
    "#example, and in this case evaluates to False.\n",
    "\n",
    "#The tabs are mandatory. Let's do some more examples\n",
    "\n",
    "answer = 43\n",
    "if answer == 42:\n",
    "    print(\"This is the answer\")\n",
    "    print(\"No it really is\")\n",
    "elif answer < 42:\n",
    "    print(\"This is too low\")\n",
    "else:\n",
    "    print(\"This is too high\")\n",
    "print(\"This is always run\")\n",
    "\n",
    "\n",
    "rainy = True\n",
    "day = \"Tuesday\"\n",
    "\n",
    "if(rainy == False) and (day != \"Tuesday\"):\n",
    "    print(\"Price is $10\")\n",
    "elif(rainy == True) and (day == \"Tuesday\"):\n",
    "    print(\"Price is $5\") \n",
    "elif(rainy == True) or (day == \"Tuesday\"):\n",
    "    print(\"Price is $7.50\")"
   ]
  },
  {
   "cell_type": "markdown",
   "metadata": {},
   "source": [
    "### Functions in Python"
   ]
  },
  {
   "cell_type": "code",
   "execution_count": 25,
   "metadata": {
    "collapsed": false
   },
   "outputs": [
    {
     "name": "stdout",
     "output_type": "stream",
     "text": [
      "My name is Jacob\n",
      "Amsterdam - Imgaine Dragons\n"
     ]
    }
   ],
   "source": [
    "#We can separate off code into functions, that can take input and can give output. They serve as black boxes from the \n",
    "#perspective of the rest of our code\n",
    "\n",
    "#use the def keyword, and indent because this creates a new block\n",
    "def print_me( string ):\n",
    "    print(string)\n",
    "   \n",
    "    #End with the \"return\" keyword\n",
    "    return\n",
    "\n",
    "print_me(\"My name is Jacob\")\n",
    "\n",
    "\n",
    "def my_favorite_song():\n",
    "    ans = \"Amsterdam - Imgaine Dragons\"\n",
    "    return ans\n",
    "\n",
    "print(my_favorite_song())\n",
    "#What if we want to compute something and return the result? How would you write that return statement?\n"
   ]
  },
  {
   "cell_type": "markdown",
   "metadata": {},
   "source": [
    "### Loops in Python"
   ]
  },
  {
   "cell_type": "code",
   "execution_count": 36,
   "metadata": {
    "collapsed": false
   },
   "outputs": [
    {
     "name": "stdout",
     "output_type": "stream",
     "text": [
      "1\n",
      "1\n",
      "2\n",
      "3\n",
      "5\n",
      "8\n",
      "spacer\n",
      "1\n",
      "1\n",
      "2\n",
      "3\n",
      "5\n",
      "8\n",
      "spacer\n",
      "1\n",
      "1\n",
      "2\n",
      "3\n",
      "5\n",
      "8\n"
     ]
    }
   ],
   "source": [
    "#Repeat code until a conditional statement (or boolean expression, same thing!) ends the loop\n",
    "\n",
    "#Let's try printing a list\n",
    "fib = [1, 1, 2, 3, 5, 8]\n",
    "\n",
    "#Most of your loops can be written in the following way. Before we get to this, we'll go over two less neat ways to write \n",
    "#the same thing\n",
    "for e in fib:\n",
    "    print(e)\n",
    "    \n",
    "print(\"spacer\")    \n",
    "i = 0    \n",
    "while(i<len(fib)):\n",
    "    print(fib[i])\n",
    "    i = i + 1\n",
    "    \n",
    "j=0\n",
    "print(\"spacer\")    \n",
    "for j in range(0,len(fib)):\n",
    "    print(fib[j])\n",
    "    j=j+1"
   ]
  },
  {
   "cell_type": "markdown",
   "metadata": {
    "collapsed": true
   },
   "source": [
    "### Numpy - \"The Fundamental Package for Scientific Computing with Python\""
   ]
  },
  {
   "cell_type": "code",
   "execution_count": 61,
   "metadata": {
    "collapsed": false
   },
   "outputs": [
    {
     "name": "stdout",
     "output_type": "stream",
     "text": [
      "[1 2 3]\n",
      "[2 3]\n",
      "46\n",
      "[  0.    0.1   0.2   0.3   0.4   0.5   0.6   0.7   0.8   0.9   1.    1.1\n",
      "   1.2   1.3   1.4   1.5   1.6   1.7   1.8   1.9   2.    2.1   2.2   2.3\n",
      "   2.4   2.5   2.6   2.7   2.8   2.9   3.    3.1   3.2   3.3   3.4   3.5\n",
      "   3.6   3.7   3.8   3.9   4.    4.1   4.2   4.3   4.4   4.5   4.6   4.7\n",
      "   4.8   4.9   5.    5.1   5.2   5.3   5.4   5.5   5.6   5.7   5.8   5.9\n",
      "   6.    6.1   6.2   6.3   6.4   6.5   6.6   6.7   6.8   6.9   7.    7.1\n",
      "   7.2   7.3   7.4   7.5   7.6   7.7   7.8   7.9   8.    8.1   8.2   8.3\n",
      "   8.4   8.5   8.6   8.7   8.8   8.9   9.    9.1   9.2   9.3   9.4   9.5\n",
      "   9.6   9.7   9.8   9.9  10. ]\n"
     ]
    },
    {
     "data": {
      "text/plain": [
       "<matplotlib.text.Text at 0x152aa8193c8>"
      ]
     },
     "execution_count": 61,
     "metadata": {},
     "output_type": "execute_result"
    },
    {
     "data": {
      "image/png": "[encoded data removed]",
      "text/plain": [
       "<matplotlib.figure.Figure at 0x152aa0630f0>"
      ]
     },
     "metadata": {},
     "output_type": "display_data"
    }
   ],
   "source": [
    "import numpy as np\n",
    "#Here, we grab all of the functions and tools from the numpy package and store them in a local variable called np.\n",
    "#You can call that variable whatever you like, but 'np' is standard.\n",
    "\n",
    "#numpy has arrays, which function similarly to python lists. \n",
    "a = np.array( [1,2,3] )\n",
    "b = np.array( [9,8,7] )\n",
    "#Be careful with syntax. The parentheses and brackets are both required!\n",
    "print(a)\n",
    "\n",
    "#Access elements from them just like you would a regular list\n",
    "print(a[1:3])\n",
    "\n",
    "#Element-wise operations are a breeze!\n",
    "c = a + b\n",
    "d = a - b\n",
    "e = a * b\n",
    "f = a / b\n",
    "\n",
    "g = np.matmul(a,b)\n",
    "print(g)\n",
    "\n",
    "#What are other things you would like to do with these arrays?\n",
    "\n",
    "\n",
    "#If we don't get to it, be sure to look at the notes once uploaded for Numeric ODE Integration!\n",
    "def deriv(y,t):\n",
    "    return t\n",
    "\n",
    "IC = 0\n",
    "\n",
    "start_time = 0\n",
    "end_time = 10\n",
    "num_times = 101\n",
    "\n",
    "times = np.linspace(start_time,end_time, num_times)\n",
    "print(times)\n",
    "\n",
    "from scipy.integrate import odeint\n",
    "\n",
    "integrated_vector = odeint(deriv,IC,times)\n",
    "\n",
    "%matplotlib inline\n",
    "import matplotlib.pyplot as plt\n",
    "from ipywidgets import interact\n",
    "\n",
    "plt.plot(times,integrated_vector)\n",
    "plt.title(\"y = (1/2)t^2\")"
   ]
  },
  {
   "cell_type": "markdown",
   "metadata": {},
   "source": [
    "### Additional Resources\n",
    "* If you still feel VERY lost: [Code Academy](https://www.codecademy.com/learn/python)\n",
    "\n",
    "* If you want a good reference site: [Official Python Reference](https://docs.python.org/2/reference/)\n",
    "\n",
    "* If you want to learn python robustly: [Learn Python the Hard Way](https://learnpythonthehardway.org/book/)\n",
    "\n",
    "* Feel free to contact me at: **jgerace (at) nd (dot) edu**\n"
   ]
  },
  {
   "cell_type": "code",
   "execution_count": null,
   "metadata": {
    "collapsed": true
   },
   "outputs": [],
   "source": []
  }
 ],
 "metadata": {
  "anaconda-cloud": {},
  "kernelspec": {
   "display_name": "Python [default]",
   "language": "python",
   "name": "python3"
  },
  "language_info": {
   "codemirror_mode": {
    "name": "ipython",
    "version": 3
   },
   "file_extension": ".py",
   "mimetype": "text/x-python",
   "name": "python",
   "nbconvert_exporter": "python",
   "pygments_lexer": "ipython3",
   "version": "3.5.2"
  }
 },
 "nbformat": 4,
 "nbformat_minor": 1
}
