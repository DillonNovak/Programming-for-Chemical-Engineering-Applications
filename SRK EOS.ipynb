{
 "cells": [
  {
   "cell_type": "code",
   "execution_count": 1,
   "metadata": {
    "collapsed": false
   },
   "outputs": [],
   "source": [
    "%matplotlib inline\n",
    "import math as mm\n",
    "import numpy as np\n",
    "import matplotlib.pyplot as plt\n",
    "from scipy.integrate import odeint\n",
    "import scipy.optimize as op\n",
    "from ipywidgets import interact"
   ]
  },
  {
   "cell_type": "code",
   "execution_count": 2,
   "metadata": {
    "collapsed": false
   },
   "outputs": [],
   "source": [
    "# truncates a number to n decimal points\n",
    "\n",
    "def trunk(x,n):\n",
    "    return (int(x*(10**n))/(10**n))"
   ]
  },
  {
   "cell_type": "markdown",
   "metadata": {},
   "source": [
    "### Soave Redlich-Kwong equation of state\n",
    "\n",
    "P = (RT)/(V-b) - a/(V(V+b))\n",
    "\n",
    "    a = 0.42748*((R*Tc)^2/Pc)*(1+m*(1-sqrt(Tr))**2\n",
    "    b = 0.08664*((R*Tc)/Pc)\n",
    "   \n",
    "    Tr = T/Tc\n",
    "\n",
    "    m = 0.480 + 1.574*w - 0.176*w**2  \n"
   ]
  },
  {
   "cell_type": "code",
   "execution_count": 7,
   "metadata": {
    "collapsed": false,
    "scrolled": true
   },
   "outputs": [],
   "source": [
    "def PVchart(T = 288):\n",
    "    # declare variables\n",
    "    P = 3.310656891     # MPa\n",
    "    R = 8.314472    # gas constant (cm^3*MPa/mol*K)\n",
    "    #T = 278         # temperature (K)\n",
    "\n",
    "    # Ethane's critical parameters\n",
    "    Tc = 305.4    # critical temp (K)\n",
    "    Pc = 4.88     # critical pressure (MPa)\n",
    "    w = 0.099     # acentric factor\n",
    "\n",
    "    Tr = T/Tc     # reduced temperature\n",
    "\n",
    "    # Define functions\n",
    "    m = 0.480 + 1.574*w - 0.176*(w**2)\n",
    "    a = 0.42748*(((R*Tc)**2)/Pc)*(1+m*(1-mm.sqrt(Tr)))**2    \n",
    "    b = 0.08664*((R*Tc)/Pc)\n",
    "\n",
    "    # function to find roots\n",
    "    def srk(Vm):\n",
    "        return ((R*T)/(Vm-b) - a/(Vm*(Vm+b)) - P)\n",
    "\n",
    "    # function to find P and plot\n",
    "    def srkP(Vm):\n",
    "        return (R*T)/(Vm-b) - a/(Vm*(Vm+b))\n",
    "\n",
    "    i = 2\n",
    "    lastVal = srk(i)\n",
    "    cont = True\n",
    "    roots = []\n",
    "    \n",
    "    while(cont):\n",
    "        currentVal = srk(i) \n",
    "        if (lastVal/currentVal < 0):\n",
    "            roots.append(op.newton(srk,i))\n",
    "        elif (len(roots) >= 4) or (i > 1e6):\n",
    "            cont = False            \n",
    "        lastVal = currentVal\n",
    "        i = i + 1\n",
    "    \n",
    "    if len(roots)>3:\n",
    "        roots = roots[1:4]\n",
    "\n",
    "    print(roots)\n",
    "    print(op.fsolve(srk,[1,150]))\n",
    "    # simulation\n",
    "    V = np.linspace(1,2200,2200)\n",
    "    P = []\n",
    "    P = (srkP(V))\n",
    "\n",
    "    #visualization\n",
    "    plt.loglog(V,P)\n",
    "\n",
    "    plt.xlabel('Volume [$cm^3/mol$]')\n",
    "    plt.ylabel('Pressure [MPa]')\n",
    "    plt.title('PV Diagram for Ethane')\n",
    "    plt.grid()\n",
    "    plt.plot([roots[0],roots[2]],[srkP(roots[0]),srkP(roots[2])],'o-')\n",
    "    plt.text(200,7.5,[ \"vapor vol: \",  trunk(roots[2],4) ])\n",
    "    plt.text(200,5.5,[ \"liquid vol: \",  trunk(roots[0],4) ])\n",
    "    plt.axis([50,1000,-200,10])"
   ]
  },
  {
   "cell_type": "code",
   "execution_count": 10,
   "metadata": {
    "collapsed": false
   },
   "outputs": [
    {
     "name": "stdout",
     "output_type": "stream",
     "text": [
      "[87.25638369878233, 276.3795371971188, 337.052119083776]\n",
      "[  8.72347478e+01  -3.21140869e+08]\n"
     ]
    },
    {
     "data": {
      "image/png": "[encoded data removed]",
      "text/plain": [
       "<matplotlib.figure.Figure at 0x218584a53c8>"
      ]
     },
     "metadata": {},
     "output_type": "display_data"
    }
   ],
   "source": [
    "interact(PVchart, T = (279,293,1));"
   ]
  },
  {
   "cell_type": "code",
   "execution_count": null,
   "metadata": {
    "collapsed": true
   },
   "outputs": [],
   "source": []
  }
 ],
 "metadata": {
  "anaconda-cloud": {},
  "kernelspec": {
   "display_name": "Python [conda root]",
   "language": "python",
   "name": "conda-root-py"
  },
  "language_info": {
   "codemirror_mode": {
    "name": "ipython",
    "version": 3
   },
   "file_extension": ".py",
   "mimetype": "text/x-python",
   "name": "python",
   "nbconvert_exporter": "python",
   "pygments_lexer": "ipython3",
   "version": "3.5.2"
  },
  "widgets": {
   "state": {
    "d17a22f5ad554b1f971857ca17c28781": {
     "views": [
      {
       "cell_index": 4
      }
     ]
    }
   },
   "version": "1.2.0"
  }
 },
 "nbformat": 4,
 "nbformat_minor": 1
}
