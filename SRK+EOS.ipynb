{
 "cells": [
  {
   "cell_type": "code",
   "execution_count": 98,
   "metadata": {
    "collapsed": false,
    "scrolled": true
   },
   "outputs": [
    {
     "name": "stdout",
     "output_type": "stream",
     "text": [
      "[89.43941911901771, 89.43941911901771, 181.16281642579347, 695.9623489210621]\n",
      "[89.43941911901771, 181.16281642579347, 695.9623489210621]\n"
     ]
    },
    {
     "data": {
      "image/png": "[encoded data removed]",
      "text/plain": [
       "<matplotlib.figure.Figure at 0x2e996b9bcf8>"
      ]
     },
     "metadata": {},
     "output_type": "display_data"
    }
   ],
   "source": [
    "%matplotlib inline\n",
    "import math as mm\n",
    "import numpy as np\n",
    "import matplotlib.pyplot as plt\n",
    "from scipy.integrate import odeint\n",
    "from scipy.optimize import newton\n",
    "\n",
    "### Soave Redlich-Kwong equation of state\n",
    "#\n",
    "#   P = (RT)/(V-b) - a/(V(V+b))\n",
    "#\n",
    "#   a = 0.42748*((R*Tc)^2/Pc)*(1+m*(1-sqrt(Tr))**2\n",
    "#   b = 0.08664*((R*Tc)/Pc)\n",
    "#   \n",
    "#   Tr = T/Tc\n",
    "#   m = 0.480 + 1.574*w - 0.176*w**2  \n",
    "#\n",
    "\n",
    "# declare variables\n",
    "P = 2.39138     # MPa\n",
    "R = 8.314472    # gas constant (cm^3*MPa/mol*K)\n",
    "T = 278         # temperature (K)\n",
    "\n",
    "# Ethane's critical parameters\n",
    "Tc = 305.4    # critical temp (K)\n",
    "Pc = 4.88     # critical pressure (MPa)\n",
    "w = 0.099     # acentric factor\n",
    "\n",
    "Tr = T/Tc     # reduced temperature\n",
    "\n",
    "# Define functions\n",
    "m = 0.480 + 1.574*w - 0.176*(w**2)\n",
    "a = 0.42748*(((R*Tc)**2)/Pc)*(1+m*(1-mm.sqrt(Tr)))**2    \n",
    "b = 0.08664*((R*Tc)/Pc)\n",
    "\n",
    "# function to find roots\n",
    "def srk(Vm):\n",
    "    return ((R*T)/(Vm-b) - a/(Vm*(Vm+b)) - P)\n",
    "\n",
    "# function to find P and plot\n",
    "def srkP(Vm):\n",
    "    return (R*T)/(Vm-b) - a/(Vm*(Vm+b))\n",
    "\n",
    "i = 2\n",
    "lastVal = srk(i)\n",
    "cont = True\n",
    "roots = []\n",
    "\n",
    "while(cont):\n",
    "    if (lastVal/srk(i) < 0):\n",
    "        roots.append(newton(srk,i))\n",
    "    elif(i>100000):\n",
    "        cont = False\n",
    "    lastVal = srk(i)\n",
    "    i = i + 5\n",
    "    \n",
    "print(roots)\n",
    "\n",
    "if len(roots)>3:\n",
    "    roots = roots[1:4]\n",
    "    \n",
    "print(roots)\n",
    "\n",
    "# simulation\n",
    "V = np.linspace(2,2000,200000)\n",
    "P = []\n",
    "P = (srkP(V))\n",
    "\n",
    "\n",
    "#visualization\n",
    "plt.semilogy(V,P)\n",
    "\n",
    "plt.xlabel('Volume [$cm^3/mol$]')\n",
    "plt.ylabel('Pressure [MPa]')\n",
    "plt.title('PV Diagram for Ethane')\n",
    "plt.grid()\n",
    "plt.ylim([-10,10]);\n",
    "\n",
    "    \n",
    "    \n"
   ]
  },
  {
   "cell_type": "code",
   "execution_count": 127,
   "metadata": {
    "collapsed": false
   },
   "outputs": [],
   "source": [
    "from ipywidgets import interact\n",
    "\n",
    "def LynxHare(T=273):\n",
    "    a = 1\n",
    "    print(T)\n",
    "    \n",
    "    def test(X):   \n",
    "        T = X\n",
    "        #print(T)\n",
    "        return \n",
    "\n",
    "#print(T)"
   ]
  },
  {
   "cell_type": "code",
   "execution_count": 130,
   "metadata": {
    "collapsed": false
   },
   "outputs": [
    {
     "name": "stdout",
     "output_type": "stream",
     "text": [
      "273\n"
     ]
    },
    {
     "data": {
      "text/plain": [
       "<function __main__.LynxHare>"
      ]
     },
     "execution_count": 130,
     "metadata": {},
     "output_type": "execute_result"
    }
   ],
   "source": [
    "interact(LynxHare, T = (270,290,1))\n"
   ]
  }
 ],
 "metadata": {
  "anaconda-cloud": {},
  "kernelspec": {
   "display_name": "Python [conda root]",
   "language": "python",
   "name": "conda-root-py"
  },
  "language_info": {
   "codemirror_mode": {
    "name": "ipython",
    "version": 3
   },
   "file_extension": ".py",
   "mimetype": "text/x-python",
   "name": "python",
   "nbconvert_exporter": "python",
   "pygments_lexer": "ipython3",
   "version": "3.5.2"
  },
  "widgets": {
   "state": {
    "c74b74ad068a48898395d64ff6c7569c": {
     "views": [
      {
       "cell_index": 2
      }
     ]
    }
   },
   "version": "1.2.0"
  }
 },
 "nbformat": 4,
 "nbformat_minor": 1
}
